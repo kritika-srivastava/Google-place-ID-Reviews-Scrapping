{
 "cells": [
  {
   "cell_type": "code",
   "execution_count": null,
   "metadata": {},
   "outputs": [],
   "source": [
    "import requests\n",
    "import json\n",
    "import pandas as pd"
   ]
  },
  {
   "cell_type": "code",
   "execution_count": null,
   "metadata": {},
   "outputs": [],
   "source": [
    "class GooglePlaces(object):\n",
    "    def __init__(self, apiKey):\n",
    "        super(GooglePlaces, self).__init__()\n",
    "        self.apiKey = apiKey\n",
    "\n",
    "    def get_place_details(self, place_id, fields):\n",
    "        endpoint_url = \"https://maps.googleapis.com/maps/api/place/details/json\"\n",
    "        params = {\n",
    "            'placeid': place_id,\n",
    "            'fields': \",\".join(fields),\n",
    "            'key': self.apiKey\n",
    "        }\n",
    "        result = requests.get(endpoint_url, params=params)\n",
    "        place_details = json.loads(result.content)\n",
    "        return place_details\n",
    "\n"
   ]
  },
  {
   "cell_type": "code",
   "execution_count": null,
   "metadata": {},
   "outputs": [],
   "source": [
    "if __name__ == '__main__':\n",
    "    df = pd.read_csv(\"API Key.txt\")\n",
    "    # Fetching the Google API key from \"API Key.txt\" file\n",
    "    # Mention the path to directory of the text file incaste the file is not present in  the current directory \n",
    "    api = GooglePlaces(df)\n",
    "    fields = ['name', 'review']\n",
    "\n",
    "    details = api.get_place_details('ChIJC03rqdriDDkRXT6SJRGXFwc', fields)\n",
    "    # You can Place the Place ID in place of'ChIJC03rqdriDDkRXT6SJRGXFwc' within the inverted commas\n",
    "    try:\n",
    "        name = details['result']['name']\n",
    "    except KeyError:\n",
    "        name = \"\"\n",
    "    try:\n",
    "        reviews = details['result']['reviews']\n",
    "    except KeyError:\n",
    "        reviews = []\n",
    "    print(\"\\n\\n\\n\\n\\n\\n\\nPlace Name:\", name)\n",
    "    print(\"REVIEWS:------------\")\n",
    "    for review in reviews:\n",
    "        author_name = review['author_name']\n",
    "        text = review['text']\n",
    "        time = review['relative_time_description']\n",
    "        print(\"Author Name:\", author_name)\n",
    "        print(\"Text:\", text)\n",
    "        print(\"Time:\", time)\n",
    "        print(\".-.-.-.-.-.-.-.-.-.-.-.-.-.-.-.-.-.-.-.-.-.-.-.-.-.-.-.-.-.-.-.-.-.-.-.-.-.-.\\n \\n\\n\\n\\n\\n\\n\")\n"
   ]
  },
  {
   "cell_type": "code",
   "execution_count": null,
   "metadata": {},
   "outputs": [],
   "source": []
  }
 ],
 "metadata": {
  "kernelspec": {
   "display_name": "Python (Kri_Sh)",
   "language": "python",
   "name": "kri_sh"
  },
  "language_info": {
   "codemirror_mode": {
    "name": "ipython",
    "version": 3
   },
   "file_extension": ".py",
   "mimetype": "text/x-python",
   "name": "python",
   "nbconvert_exporter": "python",
   "pygments_lexer": "ipython3",
   "version": "3.7.6"
  }
 },
 "nbformat": 4,
 "nbformat_minor": 2
}